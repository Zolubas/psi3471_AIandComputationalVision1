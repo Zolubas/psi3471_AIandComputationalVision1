{
 "cells": [
  {
   "attachments": {},
   "cell_type": "markdown",
   "metadata": {},
   "source": [
    "# Exercício 2 - Perceptron de Rosenblatt\n",
    "\n",
    "Um classificador binário usando o perceptron de Rosenblatt para classificar imagens de círculos ou quadrados."
   ]
  },
  {
   "cell_type": "code",
   "execution_count": 450,
   "metadata": {},
   "outputs": [],
   "source": [
    "import pandas as pd\n",
    "import matplotlib.pyplot as plt\n",
    "import numpy as np\n",
    "import math"
   ]
  },
  {
   "cell_type": "code",
   "execution_count": 2,
   "metadata": {},
   "outputs": [],
   "source": [
    "data_df = pd.read_csv(\"circles_and_squares.csv\")"
   ]
  },
  {
   "cell_type": "code",
   "execution_count": 3,
   "metadata": {},
   "outputs": [
    {
     "data": {
      "text/html": [
       "<div>\n",
       "<style scoped>\n",
       "    .dataframe tbody tr th:only-of-type {\n",
       "        vertical-align: middle;\n",
       "    }\n",
       "\n",
       "    .dataframe tbody tr th {\n",
       "        vertical-align: top;\n",
       "    }\n",
       "\n",
       "    .dataframe thead th {\n",
       "        text-align: right;\n",
       "    }\n",
       "</style>\n",
       "<table border=\"1\" class=\"dataframe\">\n",
       "  <thead>\n",
       "    <tr style=\"text-align: right;\">\n",
       "      <th></th>\n",
       "      <th>0</th>\n",
       "      <th>1</th>\n",
       "      <th>2</th>\n",
       "      <th>3</th>\n",
       "      <th>4</th>\n",
       "      <th>5</th>\n",
       "      <th>6</th>\n",
       "      <th>7</th>\n",
       "      <th>8</th>\n",
       "      <th>9</th>\n",
       "      <th>...</th>\n",
       "      <th>391</th>\n",
       "      <th>392</th>\n",
       "      <th>393</th>\n",
       "      <th>394</th>\n",
       "      <th>395</th>\n",
       "      <th>396</th>\n",
       "      <th>397</th>\n",
       "      <th>398</th>\n",
       "      <th>399</th>\n",
       "      <th>400</th>\n",
       "    </tr>\n",
       "  </thead>\n",
       "  <tbody>\n",
       "    <tr>\n",
       "      <th>0</th>\n",
       "      <td>0.0</td>\n",
       "      <td>0.0</td>\n",
       "      <td>0.0</td>\n",
       "      <td>0.0</td>\n",
       "      <td>0.0</td>\n",
       "      <td>0.0</td>\n",
       "      <td>1.0</td>\n",
       "      <td>0.0</td>\n",
       "      <td>0.0</td>\n",
       "      <td>0.0</td>\n",
       "      <td>...</td>\n",
       "      <td>0.0</td>\n",
       "      <td>0.0</td>\n",
       "      <td>0.0</td>\n",
       "      <td>0.0</td>\n",
       "      <td>0.0</td>\n",
       "      <td>0.0</td>\n",
       "      <td>0.0</td>\n",
       "      <td>0.0</td>\n",
       "      <td>0.0</td>\n",
       "      <td>-1.0</td>\n",
       "    </tr>\n",
       "    <tr>\n",
       "      <th>1</th>\n",
       "      <td>0.0</td>\n",
       "      <td>0.0</td>\n",
       "      <td>0.0</td>\n",
       "      <td>0.0</td>\n",
       "      <td>0.0</td>\n",
       "      <td>0.0</td>\n",
       "      <td>0.0</td>\n",
       "      <td>0.0</td>\n",
       "      <td>0.0</td>\n",
       "      <td>0.0</td>\n",
       "      <td>...</td>\n",
       "      <td>0.0</td>\n",
       "      <td>0.0</td>\n",
       "      <td>0.0</td>\n",
       "      <td>0.0</td>\n",
       "      <td>0.0</td>\n",
       "      <td>0.0</td>\n",
       "      <td>0.0</td>\n",
       "      <td>0.0</td>\n",
       "      <td>0.0</td>\n",
       "      <td>-1.0</td>\n",
       "    </tr>\n",
       "    <tr>\n",
       "      <th>2</th>\n",
       "      <td>0.0</td>\n",
       "      <td>0.0</td>\n",
       "      <td>0.0</td>\n",
       "      <td>0.0</td>\n",
       "      <td>0.0</td>\n",
       "      <td>0.0</td>\n",
       "      <td>0.0</td>\n",
       "      <td>0.0</td>\n",
       "      <td>0.0</td>\n",
       "      <td>0.0</td>\n",
       "      <td>...</td>\n",
       "      <td>0.0</td>\n",
       "      <td>0.0</td>\n",
       "      <td>0.0</td>\n",
       "      <td>0.0</td>\n",
       "      <td>0.0</td>\n",
       "      <td>0.0</td>\n",
       "      <td>0.0</td>\n",
       "      <td>0.0</td>\n",
       "      <td>0.0</td>\n",
       "      <td>-1.0</td>\n",
       "    </tr>\n",
       "    <tr>\n",
       "      <th>3</th>\n",
       "      <td>0.0</td>\n",
       "      <td>0.0</td>\n",
       "      <td>0.0</td>\n",
       "      <td>0.0</td>\n",
       "      <td>0.0</td>\n",
       "      <td>0.0</td>\n",
       "      <td>0.0</td>\n",
       "      <td>0.0</td>\n",
       "      <td>0.0</td>\n",
       "      <td>0.0</td>\n",
       "      <td>...</td>\n",
       "      <td>0.0</td>\n",
       "      <td>0.0</td>\n",
       "      <td>0.0</td>\n",
       "      <td>0.0</td>\n",
       "      <td>0.0</td>\n",
       "      <td>0.0</td>\n",
       "      <td>0.0</td>\n",
       "      <td>0.0</td>\n",
       "      <td>0.0</td>\n",
       "      <td>-1.0</td>\n",
       "    </tr>\n",
       "    <tr>\n",
       "      <th>4</th>\n",
       "      <td>0.0</td>\n",
       "      <td>0.0</td>\n",
       "      <td>0.0</td>\n",
       "      <td>0.0</td>\n",
       "      <td>0.0</td>\n",
       "      <td>0.0</td>\n",
       "      <td>0.0</td>\n",
       "      <td>0.0</td>\n",
       "      <td>0.0</td>\n",
       "      <td>0.0</td>\n",
       "      <td>...</td>\n",
       "      <td>0.0</td>\n",
       "      <td>0.0</td>\n",
       "      <td>0.0</td>\n",
       "      <td>0.0</td>\n",
       "      <td>0.0</td>\n",
       "      <td>0.0</td>\n",
       "      <td>0.0</td>\n",
       "      <td>0.0</td>\n",
       "      <td>0.0</td>\n",
       "      <td>1.0</td>\n",
       "    </tr>\n",
       "  </tbody>\n",
       "</table>\n",
       "<p>5 rows × 401 columns</p>\n",
       "</div>"
      ],
      "text/plain": [
       "     0    1    2    3    4    5    6    7    8    9  ...  391  392  393  394  \\\n",
       "0  0.0  0.0  0.0  0.0  0.0  0.0  1.0  0.0  0.0  0.0  ...  0.0  0.0  0.0  0.0   \n",
       "1  0.0  0.0  0.0  0.0  0.0  0.0  0.0  0.0  0.0  0.0  ...  0.0  0.0  0.0  0.0   \n",
       "2  0.0  0.0  0.0  0.0  0.0  0.0  0.0  0.0  0.0  0.0  ...  0.0  0.0  0.0  0.0   \n",
       "3  0.0  0.0  0.0  0.0  0.0  0.0  0.0  0.0  0.0  0.0  ...  0.0  0.0  0.0  0.0   \n",
       "4  0.0  0.0  0.0  0.0  0.0  0.0  0.0  0.0  0.0  0.0  ...  0.0  0.0  0.0  0.0   \n",
       "\n",
       "   395  396  397  398  399  400  \n",
       "0  0.0  0.0  0.0  0.0  0.0 -1.0  \n",
       "1  0.0  0.0  0.0  0.0  0.0 -1.0  \n",
       "2  0.0  0.0  0.0  0.0  0.0 -1.0  \n",
       "3  0.0  0.0  0.0  0.0  0.0 -1.0  \n",
       "4  0.0  0.0  0.0  0.0  0.0  1.0  \n",
       "\n",
       "[5 rows x 401 columns]"
      ]
     },
     "execution_count": 3,
     "metadata": {},
     "output_type": "execute_result"
    }
   ],
   "source": [
    "data_df.head()"
   ]
  },
  {
   "cell_type": "code",
   "execution_count": 4,
   "metadata": {},
   "outputs": [
    {
     "data": {
      "text/plain": [
       "(1000, 401)"
      ]
     },
     "execution_count": 4,
     "metadata": {},
     "output_type": "execute_result"
    }
   ],
   "source": [
    "data_df.shape"
   ]
  },
  {
   "cell_type": "code",
   "execution_count": 5,
   "metadata": {},
   "outputs": [],
   "source": [
    "data = data_df.to_numpy()\n",
    "Xd = data[:800, :]\n",
    "Xd_test = data[800:, :]"
   ]
  },
  {
   "cell_type": "code",
   "execution_count": 6,
   "metadata": {},
   "outputs": [],
   "source": [
    "def showImage(image_line_index,data):\n",
    "    img = data[image_line_index,:-1].reshape((20,20))\n",
    "    plt.imshow(img,cmap='gray')"
   ]
  },
  {
   "cell_type": "code",
   "execution_count": 7,
   "metadata": {},
   "outputs": [],
   "source": [
    "def getLabel(image_line_index,data):\n",
    "    return data[image_line_index,400]"
   ]
  },
  {
   "cell_type": "code",
   "execution_count": 8,
   "metadata": {},
   "outputs": [],
   "source": [
    "def sgn(v):\n",
    "    output = []\n",
    "    for q in range(len(v)):\n",
    "        if (v[q]>0):\n",
    "            output.append(1)\n",
    "        else:\n",
    "            output.append(-1)\n",
    "    return output    "
   ]
  },
  {
   "attachments": {},
   "cell_type": "markdown",
   "metadata": {},
   "source": [
    "Função de ativação não linear -> Neurônio de Rosenblatt"
   ]
  },
  {
   "cell_type": "code",
   "execution_count": 9,
   "metadata": {},
   "outputs": [],
   "source": [
    "def phi(v):\n",
    "    return sgn(v)"
   ]
  },
  {
   "cell_type": "code",
   "execution_count": 338,
   "metadata": {},
   "outputs": [],
   "source": [
    "def countZeros(arr):\n",
    "    num_zeros = arr.size - np.count_nonzero(arr)\n",
    "    return num_zeros\n",
    "\n",
    "def reorderData(Data):\n",
    "    np.random.shuffle(Data)\n",
    "    return Data\n",
    "\n",
    "def organizeDataByEpoch(l,Data,Nb):\n",
    "        \n",
    "        first_row = l*Nb\n",
    "        last_row  = l*Nb + Nb - 1\n",
    "\n",
    "        X = Data[:,:-1] #get data matrix\n",
    "        d = Data[:,(Data.shape[1]-1)] #get dada label colummn\n",
    "\n",
    "        Xl = X[(first_row):last_row]\n",
    "        dl = d[(first_row):last_row]\n",
    "\n",
    "        return Xl, dl\n",
    "\n",
    "def asArray(lst):\n",
    "     return np.array(lst, dtype=np.float64)\n",
    "\n",
    "\n",
    "\n",
    "def perceptronRosenblatt(Data,eta,Ne,Nb):\n",
    "    # Data = data matrix\n",
    "    # eta = adaptation step\n",
    "    # Ne = epochs number\n",
    "    # Nb = size of mini-batch\n",
    "\n",
    "    vm_1 = []\n",
    "    ym_1 = []\n",
    "    em_1 = []\n",
    "    W    = []\n",
    "\n",
    "    Nt = Data.shape[0] #get number of rows\n",
    "    Ncol = Data.shape[1] #get number of columns\n",
    "    Nmb = int(Nt/Nb) #mini-batch number per epoch\n",
    "\n",
    "    #0) Initialization\n",
    "    W.append(np.zeros(Ncol))\n",
    "\n",
    "    for k in range(1,Ne):\n",
    "        #1) Reorder Data\n",
    "        Data  = reorderData(Data)\n",
    "        for l in range(0,Nmb):\n",
    "            #2) Separate in X(l) and d(l)\n",
    "            Xl,dl = organizeDataByEpoch(l,Data,Nb)\n",
    "            Xl = np.hstack((np.ones((Xl.shape[0], 1)), Xl))\n",
    "            #3)Training\n",
    "            m = (k-1)*Nmb + l + 1\n",
    "            #print(\"Xl\",type(Xl))\n",
    "            #print(Xl.shape)\n",
    "            #print(\"W\",type(W[m-1]))\n",
    "            #print(W[m-1].shape)\n",
    "            vm_1.append(Xl@W[m-1])\n",
    "            #print(\"v\",type(vm_1[l]))\n",
    "            #print(vm_1[l].shape)\n",
    "            #PRECISA FAZER OS RESHAPE PRA CALCULAR OS PRODUTOS CORRETAMENTE\n",
    "            ym_1.append(np.array(phi(vm_1[l]),dtype=np.float64))\n",
    "            #print(\"y\",type(ym_1[l]))\n",
    "            #print(ym_1[l].shape)\n",
    "            em_1.append(dl-ym_1[l])\n",
    "            #print(\"ey\",type(em_1[l]))\n",
    "            #print(em_1[l].shape)\n",
    "            W.append(W[m-1] + (eta/Nb)*Xl.T@em_1[l])\n",
    "            \n",
    "    last_w_array =  W[len(W)-1]        \n",
    "    return last_w_array\n",
    "    "
   ]
  },
  {
   "cell_type": "code",
   "execution_count": 341,
   "metadata": {},
   "outputs": [],
   "source": [
    "def perceptronAccuracy(W,X_test):\n",
    "    X = X_test[:,:-1] #get data matrix\n",
    "    X = np.hstack((np.ones((X.shape[0], 1)), X))\n",
    "    d = X_test[:,(X_test.shape[1]-1)] #get data label column\n",
    "    y = np.sign(X@W) #make predictions using the last weight matrix in W\n",
    "    e = (d-y).astype(int)\n",
    "    return countZeros(e)/e.size"
   ]
  },
  {
   "cell_type": "code",
   "execution_count": 348,
   "metadata": {},
   "outputs": [
    {
     "name": "stdout",
     "output_type": "stream",
     "text": [
      "0.62375\n",
      "0.62\n"
     ]
    }
   ],
   "source": [
    "eta = 0.01\n",
    "Ne = 10\n",
    "Nb = 20\n",
    "Wopt = perceptronRosenblatt(Xd,eta,Ne,Nb)\n",
    "acuracyRatio = 0.0\n",
    "for i in range(200):\n",
    "    W = perceptronRosenblatt(Xd,eta,Ne,Nb)\n",
    "    if perceptronAccuracy(W, Xd) > acuracyRatio:\n",
    "        acuracyRatio = perceptronAccuracy(W, Xd)\n",
    "        Wopt = W    \n",
    "    #print(str(i%10) + \"%\" , end=\" \")\n",
    "print(acuracyRatio)  \n",
    "print(perceptronAccuracy(Wopt, Xd_test))\n",
    "\n"
   ]
  },
  {
   "cell_type": "code",
   "execution_count": 363,
   "metadata": {},
   "outputs": [
    {
     "name": "stdout",
     "output_type": "stream",
     "text": [
      "Best PARTIAL accuracy: 0.515 | Best eta: 0.01 | Best Ne: 10 | Best Nb: 10\n",
      "Best PARTIAL accuracy: 0.52 | Best eta: 0.01 | Best Ne: 10 | Best Nb: 20\n",
      "Best PARTIAL accuracy: 0.535 | Best eta: 0.01 | Best Ne: 20 | Best Nb: 120\n",
      "10.0%\n",
      "20.0%\n",
      "30.0%\n",
      "Best PARTIAL accuracy: 0.57 | Best eta: 0.02 | Best Ne: 130 | Best Nb: 160\n",
      "40.0%\n",
      "50.0%\n",
      "60.0%\n",
      "70.0%\n",
      "80.0%\n",
      "90.0%\n",
      "100.0%\n",
      "Best PARTIAL accuracy: 0.575 | Best eta: 0.060000000000000005 | Best Ne: 90 | Best Nb: 110\n",
      "110.0%\n"
     ]
    },
    {
     "ename": "KeyboardInterrupt",
     "evalue": "",
     "output_type": "error",
     "traceback": [
      "\u001b[1;31m---------------------------------------------------------------------------\u001b[0m",
      "\u001b[1;31mKeyboardInterrupt\u001b[0m                         Traceback (most recent call last)",
      "\u001b[1;32m~\\AppData\\Local\\Temp\\ipykernel_5668\\2832885792.py\u001b[0m in \u001b[0;36m<module>\u001b[1;34m\u001b[0m\n\u001b[0;32m     26\u001b[0m         \u001b[1;32mfor\u001b[0m \u001b[0mNb\u001b[0m \u001b[1;32min\u001b[0m \u001b[0mNb_range\u001b[0m\u001b[1;33m:\u001b[0m\u001b[1;33m\u001b[0m\u001b[1;33m\u001b[0m\u001b[0m\n\u001b[0;32m     27\u001b[0m             \u001b[1;31m# Train the perceptron with the current hyperparameters\u001b[0m\u001b[1;33m\u001b[0m\u001b[1;33m\u001b[0m\u001b[1;33m\u001b[0m\u001b[0m\n\u001b[1;32m---> 28\u001b[1;33m             \u001b[0mW\u001b[0m \u001b[1;33m=\u001b[0m \u001b[0mperceptronRosenblatt\u001b[0m\u001b[1;33m(\u001b[0m\u001b[0mXd\u001b[0m\u001b[1;33m,\u001b[0m \u001b[0meta\u001b[0m\u001b[1;33m,\u001b[0m \u001b[0mNe\u001b[0m\u001b[1;33m,\u001b[0m \u001b[0mNb\u001b[0m\u001b[1;33m)\u001b[0m\u001b[1;33m\u001b[0m\u001b[1;33m\u001b[0m\u001b[0m\n\u001b[0m\u001b[0;32m     29\u001b[0m \u001b[1;33m\u001b[0m\u001b[0m\n\u001b[0;32m     30\u001b[0m             \u001b[1;31m# Use the trained perceptron to make predictions on the test data\u001b[0m\u001b[1;33m\u001b[0m\u001b[1;33m\u001b[0m\u001b[1;33m\u001b[0m\u001b[0m\n",
      "\u001b[1;32m~\\AppData\\Local\\Temp\\ipykernel_5668\\3805105047.py\u001b[0m in \u001b[0;36mperceptronRosenblatt\u001b[1;34m(Data, eta, Ne, Nb)\u001b[0m\n\u001b[0;32m     45\u001b[0m     \u001b[1;32mfor\u001b[0m \u001b[0mk\u001b[0m \u001b[1;32min\u001b[0m \u001b[0mrange\u001b[0m\u001b[1;33m(\u001b[0m\u001b[1;36m1\u001b[0m\u001b[1;33m,\u001b[0m\u001b[0mNe\u001b[0m\u001b[1;33m)\u001b[0m\u001b[1;33m:\u001b[0m\u001b[1;33m\u001b[0m\u001b[1;33m\u001b[0m\u001b[0m\n\u001b[0;32m     46\u001b[0m         \u001b[1;31m#1) Reorder Data\u001b[0m\u001b[1;33m\u001b[0m\u001b[1;33m\u001b[0m\u001b[1;33m\u001b[0m\u001b[0m\n\u001b[1;32m---> 47\u001b[1;33m         \u001b[0mData\u001b[0m  \u001b[1;33m=\u001b[0m \u001b[0mreorderData\u001b[0m\u001b[1;33m(\u001b[0m\u001b[0mData\u001b[0m\u001b[1;33m)\u001b[0m\u001b[1;33m\u001b[0m\u001b[1;33m\u001b[0m\u001b[0m\n\u001b[0m\u001b[0;32m     48\u001b[0m         \u001b[1;32mfor\u001b[0m \u001b[0ml\u001b[0m \u001b[1;32min\u001b[0m \u001b[0mrange\u001b[0m\u001b[1;33m(\u001b[0m\u001b[1;36m0\u001b[0m\u001b[1;33m,\u001b[0m\u001b[0mNmb\u001b[0m\u001b[1;33m)\u001b[0m\u001b[1;33m:\u001b[0m\u001b[1;33m\u001b[0m\u001b[1;33m\u001b[0m\u001b[0m\n\u001b[0;32m     49\u001b[0m             \u001b[1;31m#2) Separate in X(l) and d(l)\u001b[0m\u001b[1;33m\u001b[0m\u001b[1;33m\u001b[0m\u001b[1;33m\u001b[0m\u001b[0m\n",
      "\u001b[1;32m~\\AppData\\Local\\Temp\\ipykernel_5668\\3805105047.py\u001b[0m in \u001b[0;36mreorderData\u001b[1;34m(Data)\u001b[0m\n\u001b[0;32m      4\u001b[0m \u001b[1;33m\u001b[0m\u001b[0m\n\u001b[0;32m      5\u001b[0m \u001b[1;32mdef\u001b[0m \u001b[0mreorderData\u001b[0m\u001b[1;33m(\u001b[0m\u001b[0mData\u001b[0m\u001b[1;33m)\u001b[0m\u001b[1;33m:\u001b[0m\u001b[1;33m\u001b[0m\u001b[1;33m\u001b[0m\u001b[0m\n\u001b[1;32m----> 6\u001b[1;33m     \u001b[0mnp\u001b[0m\u001b[1;33m.\u001b[0m\u001b[0mrandom\u001b[0m\u001b[1;33m.\u001b[0m\u001b[0mshuffle\u001b[0m\u001b[1;33m(\u001b[0m\u001b[0mData\u001b[0m\u001b[1;33m)\u001b[0m\u001b[1;33m\u001b[0m\u001b[1;33m\u001b[0m\u001b[0m\n\u001b[0m\u001b[0;32m      7\u001b[0m     \u001b[1;32mreturn\u001b[0m \u001b[0mData\u001b[0m\u001b[1;33m\u001b[0m\u001b[1;33m\u001b[0m\u001b[0m\n\u001b[0;32m      8\u001b[0m \u001b[1;33m\u001b[0m\u001b[0m\n",
      "\u001b[1;31mKeyboardInterrupt\u001b[0m: "
     ]
    }
   ],
   "source": [
    "#etas = [10,1.0,0.1,0.01,0.001,0.0001,0.00001,0.0000001]\n",
    "#Nes = [1,5,10,50,100,200]\n",
    "#Nbs = [1,5,10,20,50,100,200]\n",
    "\n",
    "\n",
    "eta_range = np.arange(0.01, 1.01, 0.01)\n",
    "Ne_range = np.arange(10, 201, 10)\n",
    "Nb_range = np.arange(10, 201, 10)\n",
    "\n",
    "# Load the training and test data\n",
    "Xd = data[:800, :]\n",
    "Xd_test = data[800:, :]\n",
    "\n",
    "# Initialize variables to store the best hyperparameters and accuracy\n",
    "best_eta = 0\n",
    "best_Ne = 0\n",
    "best_Nb = 0\n",
    "best_accuracy = 0\n",
    "\n",
    "percentual_of_analysis = 0.0\n",
    "totalcombinations = eta_range.size*Ne_range.size*Nb.size\n",
    "\n",
    "# Iterate over the hyperparameter values\n",
    "for eta in eta_range:\n",
    "    for Ne in Ne_range:\n",
    "        for Nb in Nb_range:\n",
    "            # Train the perceptron with the current hyperparameters\n",
    "            W = perceptronRosenblatt(Xd, eta, Ne, Nb)\n",
    "\n",
    "            # Use the trained perceptron to make predictions on the test data\n",
    "            #y_pred = np.sign(Xd_test[:,:-1] @ W[-1])\n",
    "\n",
    "            # Calculate the accuracy of the predictions\n",
    "            accuracy = perceptronAccuracy(W, Xd_test)\n",
    "            \n",
    "            # Update the best hyperparameters and accuracy if the current model is better\n",
    "            if accuracy > best_accuracy:\n",
    "                best_eta = eta\n",
    "                best_Ne = Ne\n",
    "                best_Nb = Nb\n",
    "                best_accuracy = accuracy\n",
    "                print(\"Best PARTIAL accuracy: \" + str(best_accuracy) + \" | Best eta: \" + str(best_eta) + \" | Best Ne: \" + str(best_Ne) + \" | Best Nb: \" +  str(best_Nb))\n",
    "\n",
    "            percentual_of_analysis = percentual_of_analysis + 1\n",
    "        if int(100*percentual_of_analysis/totalcombinations)%10==0:\n",
    "            print(str(100*percentual_of_analysis/totalcombinations) + \"%\")\n",
    "\n",
    "# Print the best hyperparameters and accuracy\n",
    "print(\"##### TRUE BEST RESULTS #####\")\n",
    "print(\"Best eta:\", best_eta)\n",
    "print(\"Best Ne:\", best_Ne)\n",
    "print(\"Best Nb:\", best_Nb)\n",
    "print(\"Best accuracy:\", best_accuracy)"
   ]
  },
  {
   "cell_type": "code",
   "execution_count": 459,
   "metadata": {},
   "outputs": [],
   "source": [
    "def nextbigger10power(n):\n",
    "    return 10**math.ceil(math.log10(n))\n",
    "\n",
    "def nextlower10power(n):\n",
    "    return 10**(math.ceil(math.log10(n))-1)\n",
    "\n",
    "def array_to_optimization(min,max):\n",
    "    min = nextlower10power(min)\n",
    "    max = nextbigger10power(max)\n",
    "    \n",
    "    precision = 0\n",
    "    if np.log10(min)<0:\n",
    "        precision = -int(np.log10(min)) \n",
    "    else:\n",
    "        precision =  int(np.log10(min))\n",
    "\n",
    "    arr = []\n",
    "    i=0\n",
    "    while (10**i)*min < max:\n",
    "        aux = 0\n",
    "        for j in range(1,10):\n",
    "            aux = aux + (10**i)*min\n",
    "            arr.append(np.round(aux,precision))\n",
    "        i=i+1 \n",
    "    arr.append(np.round(max,precision))   \n",
    "    return  np.array(arr, dtype=np.float64)"
   ]
  },
  {
   "cell_type": "code",
   "execution_count": 462,
   "metadata": {},
   "outputs": [
    {
     "name": "stdout",
     "output_type": "stream",
     "text": [
      "<class 'numpy.ndarray'>\n"
     ]
    }
   ],
   "source": [
    "print(type(np.arange(0.01, 1.01, 0.01)))"
   ]
  },
  {
   "cell_type": "code",
   "execution_count": 467,
   "metadata": {},
   "outputs": [
    {
     "name": "stdout",
     "output_type": "stream",
     "text": [
      "1540\n",
      "Best PARTIAL accuracy: 0.63 | Best eta: 1e-05 | Best Ne: 2 | Best Nb: 2\n",
      "Best PARTIAL accuracy: 0.64 | Best eta: 1e-05 | Best Ne: 2 | Best Nb: 3\n",
      "Best PARTIAL accuracy: 0.655 | Best eta: 1e-05 | Best Ne: 2 | Best Nb: 4\n",
      "Best PARTIAL accuracy: 0.69 | Best eta: 1e-05 | Best Ne: 2 | Best Nb: 6\n",
      "Best PARTIAL accuracy: 0.695 | Best eta: 1e-05 | Best Ne: 2 | Best Nb: 7\n",
      "Best PARTIAL accuracy: 0.705 | Best eta: 1e-05 | Best Ne: 2 | Best Nb: 9\n",
      "10.909090909090908%\n",
      "20.0%\n"
     ]
    },
    {
     "ename": "KeyboardInterrupt",
     "evalue": "",
     "output_type": "error",
     "traceback": [
      "\u001b[1;31m---------------------------------------------------------------------------\u001b[0m",
      "\u001b[1;31mKeyboardInterrupt\u001b[0m                         Traceback (most recent call last)",
      "\u001b[1;32m~\\AppData\\Local\\Temp\\ipykernel_5668\\3347745180.py\u001b[0m in \u001b[0;36m<module>\u001b[1;34m\u001b[0m\n\u001b[0;32m     22\u001b[0m         \u001b[1;32mfor\u001b[0m \u001b[0mNb\u001b[0m \u001b[1;32min\u001b[0m \u001b[0mNb_range\u001b[0m\u001b[1;33m:\u001b[0m\u001b[1;33m\u001b[0m\u001b[1;33m\u001b[0m\u001b[0m\n\u001b[0;32m     23\u001b[0m             \u001b[1;31m# Train the perceptron with the current hyperparameters\u001b[0m\u001b[1;33m\u001b[0m\u001b[1;33m\u001b[0m\u001b[1;33m\u001b[0m\u001b[0m\n\u001b[1;32m---> 24\u001b[1;33m             \u001b[0mW\u001b[0m \u001b[1;33m=\u001b[0m \u001b[0mperceptronRosenblatt\u001b[0m\u001b[1;33m(\u001b[0m\u001b[0mXd\u001b[0m\u001b[1;33m,\u001b[0m \u001b[0meta\u001b[0m\u001b[1;33m,\u001b[0m \u001b[0mNe\u001b[0m\u001b[1;33m,\u001b[0m \u001b[0mNb\u001b[0m\u001b[1;33m)\u001b[0m\u001b[1;33m\u001b[0m\u001b[1;33m\u001b[0m\u001b[0m\n\u001b[0m\u001b[0;32m     25\u001b[0m \u001b[1;33m\u001b[0m\u001b[0m\n\u001b[0;32m     26\u001b[0m             \u001b[1;31m# Use the trained perceptron to make predictions on the test data\u001b[0m\u001b[1;33m\u001b[0m\u001b[1;33m\u001b[0m\u001b[1;33m\u001b[0m\u001b[0m\n",
      "\u001b[1;32m~\\AppData\\Local\\Temp\\ipykernel_5668\\3805105047.py\u001b[0m in \u001b[0;36mperceptronRosenblatt\u001b[1;34m(Data, eta, Ne, Nb)\u001b[0m\n\u001b[0;32m     45\u001b[0m     \u001b[1;32mfor\u001b[0m \u001b[0mk\u001b[0m \u001b[1;32min\u001b[0m \u001b[0mrange\u001b[0m\u001b[1;33m(\u001b[0m\u001b[1;36m1\u001b[0m\u001b[1;33m,\u001b[0m\u001b[0mNe\u001b[0m\u001b[1;33m)\u001b[0m\u001b[1;33m:\u001b[0m\u001b[1;33m\u001b[0m\u001b[1;33m\u001b[0m\u001b[0m\n\u001b[0;32m     46\u001b[0m         \u001b[1;31m#1) Reorder Data\u001b[0m\u001b[1;33m\u001b[0m\u001b[1;33m\u001b[0m\u001b[1;33m\u001b[0m\u001b[0m\n\u001b[1;32m---> 47\u001b[1;33m         \u001b[0mData\u001b[0m  \u001b[1;33m=\u001b[0m \u001b[0mreorderData\u001b[0m\u001b[1;33m(\u001b[0m\u001b[0mData\u001b[0m\u001b[1;33m)\u001b[0m\u001b[1;33m\u001b[0m\u001b[1;33m\u001b[0m\u001b[0m\n\u001b[0m\u001b[0;32m     48\u001b[0m         \u001b[1;32mfor\u001b[0m \u001b[0ml\u001b[0m \u001b[1;32min\u001b[0m \u001b[0mrange\u001b[0m\u001b[1;33m(\u001b[0m\u001b[1;36m0\u001b[0m\u001b[1;33m,\u001b[0m\u001b[0mNmb\u001b[0m\u001b[1;33m)\u001b[0m\u001b[1;33m:\u001b[0m\u001b[1;33m\u001b[0m\u001b[1;33m\u001b[0m\u001b[0m\n\u001b[0;32m     49\u001b[0m             \u001b[1;31m#2) Separate in X(l) and d(l)\u001b[0m\u001b[1;33m\u001b[0m\u001b[1;33m\u001b[0m\u001b[1;33m\u001b[0m\u001b[0m\n",
      "\u001b[1;32m~\\AppData\\Local\\Temp\\ipykernel_5668\\3805105047.py\u001b[0m in \u001b[0;36mreorderData\u001b[1;34m(Data)\u001b[0m\n\u001b[0;32m      4\u001b[0m \u001b[1;33m\u001b[0m\u001b[0m\n\u001b[0;32m      5\u001b[0m \u001b[1;32mdef\u001b[0m \u001b[0mreorderData\u001b[0m\u001b[1;33m(\u001b[0m\u001b[0mData\u001b[0m\u001b[1;33m)\u001b[0m\u001b[1;33m:\u001b[0m\u001b[1;33m\u001b[0m\u001b[1;33m\u001b[0m\u001b[0m\n\u001b[1;32m----> 6\u001b[1;33m     \u001b[0mnp\u001b[0m\u001b[1;33m.\u001b[0m\u001b[0mrandom\u001b[0m\u001b[1;33m.\u001b[0m\u001b[0mshuffle\u001b[0m\u001b[1;33m(\u001b[0m\u001b[0mData\u001b[0m\u001b[1;33m)\u001b[0m\u001b[1;33m\u001b[0m\u001b[1;33m\u001b[0m\u001b[0m\n\u001b[0m\u001b[0;32m      7\u001b[0m     \u001b[1;32mreturn\u001b[0m \u001b[0mData\u001b[0m\u001b[1;33m\u001b[0m\u001b[1;33m\u001b[0m\u001b[0m\n\u001b[0;32m      8\u001b[0m \u001b[1;33m\u001b[0m\u001b[0m\n",
      "\u001b[1;31mKeyboardInterrupt\u001b[0m: "
     ]
    }
   ],
   "source": [
    "eta_range = array_to_optimization(0.0001, 10.0)\n",
    "Ne_range = array_to_optimization(10, 1000).astype(int)\n",
    "Nb_range = array_to_optimization(10, 1000).astype(int)\n",
    "\n",
    "# Load the training and test data\n",
    "Xd = data[:800, :]\n",
    "Xd_test = data[800:, :]\n",
    "\n",
    "# Initialize variables to store the best hyperparameters and accuracy\n",
    "best_eta = 0\n",
    "best_Ne = 0\n",
    "best_Nb = 0\n",
    "best_accuracy = 0\n",
    "\n",
    "percentual_of_analysis = 0.0\n",
    "totalcombinations = eta_range.size*Ne_range.size*Nb.size\n",
    "print(totalcombinations)\n",
    "\n",
    "# Iterate over the hyperparameter values\n",
    "for eta in eta_range:\n",
    "    for Ne in Ne_range:\n",
    "        for Nb in Nb_range:\n",
    "            # Train the perceptron with the current hyperparameters\n",
    "            W = perceptronRosenblatt(Xd, eta, Ne, Nb)\n",
    "\n",
    "            # Use the trained perceptron to make predictions on the test data\n",
    "            #y_pred = np.sign(Xd_test[:,:-1] @ W[-1])\n",
    "\n",
    "            # Calculate the accuracy of the predictions\n",
    "            accuracy = perceptronAccuracy(W, Xd_test)\n",
    "            \n",
    "            # Update the best hyperparameters and accuracy if the current model is better\n",
    "            if accuracy > best_accuracy:\n",
    "                best_eta = eta\n",
    "                best_Ne = Ne\n",
    "                best_Nb = Nb\n",
    "                best_accuracy = accuracy\n",
    "                print(\"Best PARTIAL accuracy: \" + str(best_accuracy) + \" | Best eta: \" + str(best_eta) + \" | Best Ne: \" + str(best_Ne) + \" | Best Nb: \" +  str(best_Nb))\n",
    "\n",
    "            percentual_of_analysis = percentual_of_analysis + 1\n",
    "        if int(100*percentual_of_analysis/totalcombinations)%10==0:\n",
    "            print(str(100*percentual_of_analysis/totalcombinations) + \"%\")\n",
    "\n",
    "# Print the best hyperparameters and accuracy\n",
    "print(\"##### TRUE BEST RESULTS #####\")\n",
    "print(\"Best eta:\", best_eta)\n",
    "print(\"Best Ne:\", best_Ne)\n",
    "print(\"Best Nb:\", best_Nb)\n",
    "print(\"Best accuracy:\", best_accuracy)"
   ]
  },
  {
   "cell_type": "code",
   "execution_count": 523,
   "metadata": {},
   "outputs": [
    {
     "name": "stdout",
     "output_type": "stream",
     "text": [
      "Total number of combinations tested =  1540\n",
      "eta in [1e-05 , 10.0]\n",
      "Ne in [1 , 1000]\n",
      "Nb in [1 , 1000]\n",
      "Best PARTIAL accuracy: 0.655 | Best eta: 1e-05 | Best Ne: 2 | Best Nb: 2\n",
      "Best PARTIAL accuracy: 0.67 | Best eta: 1e-05 | Best Ne: 2 | Best Nb: 9\n",
      "Best PARTIAL accuracy: 0.675 | Best eta: 1e-05 | Best Ne: 2 | Best Nb: 10\n",
      "Best PARTIAL accuracy: 0.71 | Best eta: 1e-05 | Best Ne: 2 | Best Nb: 30\n",
      "10.0% -> 154.0\n",
      "20.0% -> 308.0\n",
      "30.0% -> 462.0\n",
      "40.0% -> 616.0\n",
      "50.0% -> 770.0\n",
      "60.0% -> 924.0\n",
      "70.0% -> 1078.0\n",
      "80.0% -> 1232.0\n",
      "90.0% -> 1386.0\n",
      "100.0% -> 1540.0\n"
     ]
    },
    {
     "ename": "KeyboardInterrupt",
     "evalue": "",
     "output_type": "error",
     "traceback": [
      "\u001b[1;31m---------------------------------------------------------------------------\u001b[0m",
      "\u001b[1;31mKeyboardInterrupt\u001b[0m                         Traceback (most recent call last)",
      "\u001b[1;32m~\\AppData\\Local\\Temp\\ipykernel_5668\\2132166885.py\u001b[0m in \u001b[0;36m<module>\u001b[1;34m\u001b[0m\n\u001b[0;32m     25\u001b[0m         \u001b[1;32mfor\u001b[0m \u001b[0mNb\u001b[0m \u001b[1;32min\u001b[0m \u001b[0mNb_range\u001b[0m\u001b[1;33m:\u001b[0m\u001b[1;33m\u001b[0m\u001b[1;33m\u001b[0m\u001b[0m\n\u001b[0;32m     26\u001b[0m             \u001b[1;31m# Train the perceptron with the current hyperparameters\u001b[0m\u001b[1;33m\u001b[0m\u001b[1;33m\u001b[0m\u001b[1;33m\u001b[0m\u001b[0m\n\u001b[1;32m---> 27\u001b[1;33m             \u001b[0mW\u001b[0m \u001b[1;33m=\u001b[0m \u001b[0mperceptronRosenblatt\u001b[0m\u001b[1;33m(\u001b[0m\u001b[0mXd\u001b[0m\u001b[1;33m,\u001b[0m \u001b[0meta\u001b[0m\u001b[1;33m,\u001b[0m \u001b[0mNe\u001b[0m\u001b[1;33m,\u001b[0m \u001b[0mNb\u001b[0m\u001b[1;33m)\u001b[0m\u001b[1;33m\u001b[0m\u001b[1;33m\u001b[0m\u001b[0m\n\u001b[0m\u001b[0;32m     28\u001b[0m \u001b[1;33m\u001b[0m\u001b[0m\n\u001b[0;32m     29\u001b[0m             \u001b[1;31m# Use the trained perceptron to make predictions on the test data\u001b[0m\u001b[1;33m\u001b[0m\u001b[1;33m\u001b[0m\u001b[1;33m\u001b[0m\u001b[0m\n",
      "\u001b[1;32m~\\AppData\\Local\\Temp\\ipykernel_5668\\3805105047.py\u001b[0m in \u001b[0;36mperceptronRosenblatt\u001b[1;34m(Data, eta, Ne, Nb)\u001b[0m\n\u001b[0;32m     45\u001b[0m     \u001b[1;32mfor\u001b[0m \u001b[0mk\u001b[0m \u001b[1;32min\u001b[0m \u001b[0mrange\u001b[0m\u001b[1;33m(\u001b[0m\u001b[1;36m1\u001b[0m\u001b[1;33m,\u001b[0m\u001b[0mNe\u001b[0m\u001b[1;33m)\u001b[0m\u001b[1;33m:\u001b[0m\u001b[1;33m\u001b[0m\u001b[1;33m\u001b[0m\u001b[0m\n\u001b[0;32m     46\u001b[0m         \u001b[1;31m#1) Reorder Data\u001b[0m\u001b[1;33m\u001b[0m\u001b[1;33m\u001b[0m\u001b[1;33m\u001b[0m\u001b[0m\n\u001b[1;32m---> 47\u001b[1;33m         \u001b[0mData\u001b[0m  \u001b[1;33m=\u001b[0m \u001b[0mreorderData\u001b[0m\u001b[1;33m(\u001b[0m\u001b[0mData\u001b[0m\u001b[1;33m)\u001b[0m\u001b[1;33m\u001b[0m\u001b[1;33m\u001b[0m\u001b[0m\n\u001b[0m\u001b[0;32m     48\u001b[0m         \u001b[1;32mfor\u001b[0m \u001b[0ml\u001b[0m \u001b[1;32min\u001b[0m \u001b[0mrange\u001b[0m\u001b[1;33m(\u001b[0m\u001b[1;36m0\u001b[0m\u001b[1;33m,\u001b[0m\u001b[0mNmb\u001b[0m\u001b[1;33m)\u001b[0m\u001b[1;33m:\u001b[0m\u001b[1;33m\u001b[0m\u001b[1;33m\u001b[0m\u001b[0m\n\u001b[0;32m     49\u001b[0m             \u001b[1;31m#2) Separate in X(l) and d(l)\u001b[0m\u001b[1;33m\u001b[0m\u001b[1;33m\u001b[0m\u001b[1;33m\u001b[0m\u001b[0m\n",
      "\u001b[1;32m~\\AppData\\Local\\Temp\\ipykernel_5668\\3805105047.py\u001b[0m in \u001b[0;36mreorderData\u001b[1;34m(Data)\u001b[0m\n\u001b[0;32m      4\u001b[0m \u001b[1;33m\u001b[0m\u001b[0m\n\u001b[0;32m      5\u001b[0m \u001b[1;32mdef\u001b[0m \u001b[0mreorderData\u001b[0m\u001b[1;33m(\u001b[0m\u001b[0mData\u001b[0m\u001b[1;33m)\u001b[0m\u001b[1;33m:\u001b[0m\u001b[1;33m\u001b[0m\u001b[1;33m\u001b[0m\u001b[0m\n\u001b[1;32m----> 6\u001b[1;33m     \u001b[0mnp\u001b[0m\u001b[1;33m.\u001b[0m\u001b[0mrandom\u001b[0m\u001b[1;33m.\u001b[0m\u001b[0mshuffle\u001b[0m\u001b[1;33m(\u001b[0m\u001b[0mData\u001b[0m\u001b[1;33m)\u001b[0m\u001b[1;33m\u001b[0m\u001b[1;33m\u001b[0m\u001b[0m\n\u001b[0m\u001b[0;32m      7\u001b[0m     \u001b[1;32mreturn\u001b[0m \u001b[0mData\u001b[0m\u001b[1;33m\u001b[0m\u001b[1;33m\u001b[0m\u001b[0m\n\u001b[0;32m      8\u001b[0m \u001b[1;33m\u001b[0m\u001b[0m\n",
      "\u001b[1;31mKeyboardInterrupt\u001b[0m: "
     ]
    }
   ],
   "source": [
    "eta_range = array_to_optimization(0.0001, 10.0)\n",
    "Ne_range = array_to_optimization(10, 1000).astype(int)\n",
    "Nb_range = array_to_optimization(10, 1000).astype(int)\n",
    "\n",
    "# Load the training and test data\n",
    "Xd = data[:800, :]\n",
    "Xd_test = data[800:, :]\n",
    "\n",
    "# Initialize variables to store the best hyperparameters and accuracy\n",
    "best_eta = 0\n",
    "best_Ne = 0\n",
    "best_Nb = 0\n",
    "best_accuracy = 0\n",
    "\n",
    "percentual_of_analysis = 0.0\n",
    "totalcombinations = eta_range.size*Ne_range.size*Nb.size\n",
    "print(\"Total number of combinations tested = \",totalcombinations)\n",
    "print(\"eta in [\" + str(min(eta_range)) + \" , \" + str(max(eta_range))+ \"]\")\n",
    "print(\"Ne in [\" + str(min(Ne_range)) + \" , \" + str(max(Ne_range))+ \"]\")\n",
    "print(\"Nb in [\" + str(min(Nb_range)) + \" , \" + str(max(Nb_range))+ \"]\")\n",
    "\n",
    "# Iterate over the hyperparameter values\n",
    "for eta in eta_range:\n",
    "    for Ne in Ne_range:\n",
    "        for Nb in Nb_range:\n",
    "            # Train the perceptron with the current hyperparameters\n",
    "            W = perceptronRosenblatt(Xd, eta, Ne, Nb)\n",
    "\n",
    "            # Use the trained perceptron to make predictions on the test data\n",
    "            #y_pred = np.sign(Xd_test[:,:-1] @ W[-1])\n",
    "\n",
    "            # Calculate the accuracy of the predictions\n",
    "            accuracy = perceptronAccuracy(W, Xd_test)\n",
    "            \n",
    "            # Update the best hyperparameters and accuracy if the current model is better\n",
    "            if accuracy > best_accuracy:\n",
    "                best_eta = eta\n",
    "                best_Ne = Ne\n",
    "                best_Nb = Nb\n",
    "                best_accuracy = accuracy\n",
    "                print(\"Best PARTIAL accuracy: \" + str(best_accuracy) + \" | Best eta: \" + str(best_eta) + \" | Best Ne: \" + str(best_Ne) + \" | Best Nb: \" +  str(best_Nb))\n",
    "\n",
    "            percentual_of_analysis = percentual_of_analysis + 1\n",
    "            if ((100*percentual_of_analysis/totalcombinations)%10==0):\n",
    "                print(str(100*percentual_of_analysis/totalcombinations) + \"% -> \" + str(percentual_of_analysis))\n",
    "\n",
    "# Print the best hyperparameters and accuracy\n",
    "print(\"##### TRUE BEST RESULTS #####\")\n",
    "print(\"Best eta:\", best_eta)\n",
    "print(\"Best Ne:\", best_Ne)\n",
    "print(\"Best Nb:\", best_Nb)\n",
    "print(\"Best accuracy:\", best_accuracy)"
   ]
  },
  {
   "cell_type": "code",
   "execution_count": 552,
   "metadata": {},
   "outputs": [
    {
     "name": "stdout",
     "output_type": "stream",
     "text": [
      "Total number of combinations tested =  288\n",
      "eta in [1e-08 , 0.1]\n",
      "Ne in [1 , 100]\n",
      "Nb in [1 , 100]\n",
      "Best PARTIAL accuracy: 0.51 | Best eta: 1e-08 | Best Ne: 5 | Best Nb: 5\n",
      "Best PARTIAL accuracy: 0.6 | Best eta: 1e-08 | Best Ne: 5 | Best Nb: 10\n",
      "25.0% -> 72.0\n",
      "50.0% -> 144.0\n",
      "75.0% -> 216.0\n",
      "100.0% -> 288.0\n",
      "##### TRUE BEST RESULTS #####\n",
      "Best eta: 1e-08\n",
      "Best Ne: 5\n",
      "Best Nb: 10\n",
      "Best accuracy: 0.6\n"
     ]
    }
   ],
   "source": [
    "eta_range = np.array([1e-08,1e-07,1e-06,1e-05,1e-04,1e-03,1e-02,1e-01])\n",
    "Ne_range = np.array([1,5,10,20,50,100])\n",
    "Nb_range = np.array([1,5,10,20,50,100])\n",
    "\n",
    "# Load the training and test data\n",
    "Xd = data[:800, :]\n",
    "Xd_test = data[800:, :]\n",
    "\n",
    "# Initialize variables to store the best hyperparameters and accuracy\n",
    "best_eta = 0\n",
    "best_Ne = 0\n",
    "best_Nb = 0\n",
    "best_accuracy = 0\n",
    "\n",
    "percentual_of_analysis = 0.0\n",
    "\n",
    "totalcombinations = 0\n",
    "for eta in eta_range:\n",
    "    for Ne in Ne_range:\n",
    "        for Nb in Nb_range:\n",
    "            totalcombinations = totalcombinations + 1\n",
    "\n",
    "print(\"Total number of combinations tested = \",totalcombinations)\n",
    "print(\"eta in [\" + str(min(eta_range)) + \" , \" + str(max(eta_range))+ \"]\")\n",
    "print(\"Ne in [\" + str(min(Ne_range)) + \" , \" + str(max(Ne_range))+ \"]\")\n",
    "print(\"Nb in [\" + str(min(Nb_range)) + \" , \" + str(max(Nb_range))+ \"]\")\n",
    "\n",
    "# Iterate over the hyperparameter values\n",
    "for eta in eta_range:\n",
    "    for Ne in Ne_range:\n",
    "        for Nb in Nb_range:\n",
    "            # Train the perceptron with the current hyperparameters\n",
    "            W = perceptronRosenblatt(Xd, eta, Ne, Nb)\n",
    "\n",
    "            # Use the trained perceptron to make predictions on the test data\n",
    "            #y_pred = np.sign(Xd_test[:,:-1] @ W[-1])\n",
    "\n",
    "            # Calculate the accuracy of the predictions\n",
    "            accuracy = perceptronAccuracy(W, Xd_test)\n",
    "            \n",
    "            # Update the best hyperparameters and accuracy if the current model is better\n",
    "            if accuracy > best_accuracy:\n",
    "                best_eta = eta\n",
    "                best_Ne = Ne\n",
    "                best_Nb = Nb\n",
    "                best_accuracy = accuracy\n",
    "                print(\"Best PARTIAL accuracy: \" + str(best_accuracy) + \" | Best eta: \" + str(best_eta) + \" | Best Ne: \" + str(best_Ne) + \" | Best Nb: \" +  str(best_Nb))\n",
    "\n",
    "            percentual_of_analysis = percentual_of_analysis + 1\n",
    "            if ((100*percentual_of_analysis/totalcombinations)%1==0):\n",
    "                print(str(100*percentual_of_analysis/totalcombinations) + \"% -> \" + str(percentual_of_analysis))\n",
    "\n",
    "# Print the best hyperparameters and accuracy\n",
    "print(\"##### TRUE BEST RESULTS #####\")\n",
    "print(\"Best eta:\", best_eta)\n",
    "print(\"Best Ne:\", best_Ne)\n",
    "print(\"Best Nb:\", best_Nb)\n",
    "print(\"Best accuracy:\", best_accuracy)"
   ]
  },
  {
   "cell_type": "code",
   "execution_count": 15,
   "metadata": {},
   "outputs": [
    {
     "data": {
      "text/plain": [
       "1.0"
      ]
     },
     "execution_count": 15,
     "metadata": {},
     "output_type": "execute_result"
    },
    {
     "data": {
      "image/png": "[encoded data removed]",
      "text/plain": [
       "<Figure size 640x480 with 1 Axes>"
      ]
     },
     "metadata": {},
     "output_type": "display_data"
    }
   ],
   "source": [
    "showImage(0,data)\n",
    "getLabel(0,data)"
   ]
  },
  {
   "cell_type": "code",
   "execution_count": 16,
   "metadata": {},
   "outputs": [
    {
     "data": {
      "text/plain": [
       "-1.0"
      ]
     },
     "execution_count": 16,
     "metadata": {},
     "output_type": "execute_result"
    },
    {
     "data": {
      "image/png": "[encoded data removed]",
      "text/plain": [
       "<Figure size 640x480 with 1 Axes>"
      ]
     },
     "metadata": {},
     "output_type": "display_data"
    }
   ],
   "source": [
    "showImage(500,data)\n",
    "getLabel(500,data)"
   ]
  },
  {
   "cell_type": "code",
   "execution_count": 17,
   "metadata": {},
   "outputs": [
    {
     "data": {
      "text/plain": [
       "1.0"
      ]
     },
     "execution_count": 17,
     "metadata": {},
     "output_type": "execute_result"
    },
    {
     "data": {
      "image/png": "[encoded data removed]",
      "text/plain": [
       "<Figure size 640x480 with 1 Axes>"
      ]
     },
     "metadata": {},
     "output_type": "display_data"
    }
   ],
   "source": [
    "showImage(333,data)\n",
    "getLabel(333,data)"
   ]
  },
  {
   "cell_type": "code",
   "execution_count": 18,
   "metadata": {},
   "outputs": [
    {
     "data": {
      "text/plain": [
       "-1.0"
      ]
     },
     "execution_count": 18,
     "metadata": {},
     "output_type": "execute_result"
    },
    {
     "data": {
      "image/png": "[encoded data removed]",
      "text/plain": [
       "<Figure size 640x480 with 1 Axes>"
      ]
     },
     "metadata": {},
     "output_type": "display_data"
    }
   ],
   "source": [
    "showImage(550,data)\n",
    "getLabel(550,data)"
   ]
  },
  {
   "cell_type": "code",
   "execution_count": 19,
   "metadata": {},
   "outputs": [],
   "source": [
    "Xd = data[:800,:]\n",
    "Xd_test = data[800:,:]"
   ]
  },
  {
   "cell_type": "code",
   "execution_count": null,
   "metadata": {},
   "outputs": [],
   "source": [
    "\n"
   ]
  },
  {
   "cell_type": "code",
   "execution_count": null,
   "metadata": {},
   "outputs": [],
   "source": []
  }
 ],
 "metadata": {
  "kernelspec": {
   "display_name": "Python 3",
   "language": "python",
   "name": "python3"
  },
  "language_info": {
   "codemirror_mode": {
    "name": "ipython",
    "version": 3
   },
   "file_extension": ".py",
   "mimetype": "text/x-python",
   "name": "python",
   "nbconvert_exporter": "python",
   "pygments_lexer": "ipython3",
   "version": "3.7.6"
  },
  "orig_nbformat": 4
 },
 "nbformat": 4,
 "nbformat_minor": 2
}
